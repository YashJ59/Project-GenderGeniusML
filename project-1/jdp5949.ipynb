{
  "nbformat": 4,
  "nbformat_minor": 0,
  "metadata": {
    "colab": {
      "provenance": [],
      "collapsed_sections": []
    },
    "kernelspec": {
      "name": "python3",
      "display_name": "Python 3"
    },
    "language_info": {
      "name": "python"
    }
  },
  "cells": [
    {
      "cell_type": "markdown",
      "source": [
        " **Name: Jaykumar Dhirubhai Patel \n",
        "UTA id: 1001945949\n",
        "Section:  CSE 6363-005**"
      ],
      "metadata": {
        "id": "FH3TKhGVWFog"
      }
    },
    {
      "cell_type": "code",
      "source": [
        "#Data cleaning and formating \n",
        "# This section Code is given by TA\n",
        "import numpy as np\n",
        "def clean_data(line):\n",
        "    return line.replace('(', '').replace(')', '').replace(' ', '').strip().split(',')\n",
        "\n",
        "def fetch_data(filename):\n",
        "    with open(filename, 'r') as f:\n",
        "        input_data = f.readlines()\n",
        "        clean_input = list(map(clean_data, input_data))\n",
        "        f.close()\n",
        "    return clean_input\n",
        "\n",
        "\n",
        "def readFile(dataset_path):\n",
        "    input_data = fetch_data(dataset_path)\n",
        "    input_np = np.array(input_data)\n",
        "    return input_np\n",
        "\n",
        "training_data = './set1.txt'\n",
        "test_data = './test1.txt'\n",
        "large_120_data = './set2.txt'\n",
        "input_test_data='./testInput.txt'\n",
        "set1 = readFile(training_data)\n",
        "\n",
        "test1 = readFile(test_data)\n",
        "\n",
        "set2 = readFile(large_120_data)\n",
        "\n",
        "test2=readFile(input_test_data)\n",
        "\n",
        "#set1(14 data point array),set2(120 data point array), test1(given test data point array, test2(any input data point array))"
      ],
      "metadata": {
        "id": "wt8GbU-baqYX"
      },
      "execution_count": null,
      "outputs": []
    },
    {
      "cell_type": "markdown",
      "source": [
        "if you want to see how data is formated print all 4 array varibale, set1,2, test1,2"
      ],
      "metadata": {
        "id": "337hw_HbX5KH"
      }
    },
    {
      "cell_type": "code",
      "source": [
        "#my code for data formatting and data cleaning from text file and convert into csv\n",
        "set1 = open('set1.txt','r')\n",
        "set1Data=set1.readlines()\n"
      ],
      "metadata": {
        "id": "dE0BOw-ylSSJ"
      },
      "execution_count": null,
      "outputs": []
    },
    {
      "cell_type": "code",
      "source": [
        "set2 = open('set2.txt','r')\n",
        "set2Data=set2.readlines()"
      ],
      "metadata": {
        "id": "GiYNoKb28NAK"
      },
      "execution_count": null,
      "outputs": []
    },
    {
      "cell_type": "code",
      "source": [
        "setT = open('test1.txt','r')\n",
        "setTestData=setT.readlines()"
      ],
      "metadata": {
        "id": "7Xf0TUmcSQPl"
      },
      "execution_count": null,
      "outputs": []
    },
    {
      "cell_type": "markdown",
      "source": [
        "\n",
        "\n",
        "\n",
        "*   x,y,a[x= height, y= weight, a=age] > for 14 data points\n",
        "*   x2,v2,a2=[same as above] >  for 120 data points\n",
        "*   tx,ty,ta=[same as above] > for given test data point\n",
        "\n",
        "\n",
        "\n",
        "\n"
      ],
      "metadata": {
        "id": "ReUJBijzYJ18"
      }
    },
    {
      "cell_type": "code",
      "source": [
        "x=[]\n",
        "y=[]\n",
        "a=[]\n",
        "g=[]\n",
        "x2=[]\n",
        "y2=[]\n",
        "a2=[]\n",
        "g2=[]\n",
        "tx=[]\n",
        "ty=[]\n",
        "ta=[]"
      ],
      "metadata": {
        "id": "A2C-M2qZABE7"
      },
      "execution_count": null,
      "outputs": []
    },
    {
      "cell_type": "code",
      "source": [
        "FileIOOprations = open(\"set1.csv\",\"w\")\n",
        "FileIOOprations.write(\"height,weight,age,gender\\n\")"
      ],
      "metadata": {
        "id": "0Ja3W-CeyAIf",
        "colab": {
          "base_uri": "https://localhost:8080/"
        },
        "outputId": "1d6fa90a-45e2-48a6-c612-93ba971b88e7"
      },
      "execution_count": null,
      "outputs": [
        {
          "output_type": "execute_result",
          "data": {
            "text/plain": [
              "25"
            ]
          },
          "metadata": {},
          "execution_count": 397
        }
      ]
    },
    {
      "cell_type": "code",
      "source": [
        "FileIOOprations2 = open(\"set2.csv\",\"w\")\n",
        "FileIOOprations2.write(\"height,weight,age,gender\\n\")"
      ],
      "metadata": {
        "colab": {
          "base_uri": "https://localhost:8080/"
        },
        "id": "wf9j7PX88F04",
        "outputId": "cc9594bc-5847-4328-f812-cd9d7c0e51e6"
      },
      "execution_count": null,
      "outputs": [
        {
          "output_type": "execute_result",
          "data": {
            "text/plain": [
              "25"
            ]
          },
          "metadata": {},
          "execution_count": 398
        }
      ]
    },
    {
      "cell_type": "code",
      "source": [
        "FileIOOprationsT = open(\"test1.csv\",\"w\")\n",
        "FileIOOprationsT.write(\"height,weight,age\\n\")"
      ],
      "metadata": {
        "id": "OUCBfuerSTWq",
        "colab": {
          "base_uri": "https://localhost:8080/"
        },
        "outputId": "d1c0a43e-b756-4ffc-a506-cfbf0010811b"
      },
      "execution_count": null,
      "outputs": [
        {
          "output_type": "execute_result",
          "data": {
            "text/plain": [
              "18"
            ]
          },
          "metadata": {},
          "execution_count": 399
        }
      ]
    },
    {
      "cell_type": "code",
      "source": [
        "for index in set1Data:\n",
        "  FormatedList=index[3:].split(' ')\n",
        "  FormatedList=FormatedList[0:-1]\n",
        "  FinalString=(FormatedList[0][:-1])+','+(FormatedList[1][:-1])+','+(FormatedList[2][:-2])+','+FormatedList[3]+'\\n'\n",
        "  x.append(float(FormatedList[0][:-1]))\n",
        "  y.append(float(FormatedList[1][:-1]))\n",
        "  a.append(int(FormatedList[2][:-2]))\n",
        "  g.append((FormatedList[3]))\n",
        "  # print(FinalString)\n",
        "  FileIOOprations.write(FinalString)\n"
      ],
      "metadata": {
        "id": "gz_AE5udyCUy"
      },
      "execution_count": null,
      "outputs": []
    },
    {
      "cell_type": "code",
      "source": [
        "for index in set2Data:\n",
        "  FormatedList=index[3:].split(' ')\n",
        "  FormatedList=FormatedList[0:-1]\n",
        "  FinalString=(FormatedList[0][:-1])+','+(FormatedList[1][:-1])+','+(FormatedList[2][:-2])+','+FormatedList[3]+'\\n'\n",
        "  x2.append(float(FormatedList[0][:-1]))\n",
        "  y2.append(float(FormatedList[1][:-1]))\n",
        "  a2.append(int(FormatedList[2][:-2]))\n",
        "  g2.append((FormatedList[3]))\n",
        "  FileIOOprations2.write(FinalString)"
      ],
      "metadata": {
        "id": "VWu0Y3lH8IL7"
      },
      "execution_count": null,
      "outputs": []
    },
    {
      "cell_type": "code",
      "source": [
        "for i in range(len(setTestData)):\n",
        "  FormatedList=setTestData[i][2:].split(' ')\n",
        "  if i<len(setTestData)-1:\n",
        "    FormatedList=FormatedList[0:-1]\n",
        "  else:\n",
        "    FormatedList=FormatedList\n",
        "  FinalString=(FormatedList[0][:-1])+','+(FormatedList[1][:-1])+','+(FormatedList[2][:-1])+'\\n'\n",
        "  tx.append(float(FormatedList[0][:-1]))\n",
        "  ty.append(float(FormatedList[1][:-1]))\n",
        "  ta.append(int(FormatedList[2][:-1]))\n",
        "  FileIOOprationsT.write(FinalString)\n"
      ],
      "metadata": {
        "id": "9q7v6rHqShQY"
      },
      "execution_count": null,
      "outputs": []
    },
    {
      "cell_type": "code",
      "source": [
        "FileIOOprations.close()"
      ],
      "metadata": {
        "id": "Uwut0hdAyLFy"
      },
      "execution_count": null,
      "outputs": []
    },
    {
      "cell_type": "code",
      "source": [
        "FileIOOprations2.close()"
      ],
      "metadata": {
        "id": "H0Y9cdtB86dv"
      },
      "execution_count": null,
      "outputs": []
    },
    {
      "cell_type": "code",
      "source": [
        "FileIOOprationsT.close()"
      ],
      "metadata": {
        "id": "IEjjEuUyRsh6"
      },
      "execution_count": null,
      "outputs": []
    },
    {
      "cell_type": "code",
      "source": [
        "queue=[]\n",
        "for i in range(len(tx)):\n",
        "  queue.append([tx[i],ty[i],ta[i]])"
      ],
      "metadata": {
        "id": "pL3WcQ7CRmWY"
      },
      "execution_count": null,
      "outputs": []
    },
    {
      "cell_type": "code",
      "source": [
        "#Cartesian Distance calculation\n",
        "import math\n",
        "def dis(a,ta,b,tb,c,tc):\n",
        "  return math.sqrt((a-ta)**2+(b-tb)**2+(c-tc)**2)"
      ],
      "metadata": {
        "id": "r9XvaSxNv9xi"
      },
      "execution_count": null,
      "outputs": []
    },
    {
      "cell_type": "code",
      "source": [
        "#Cartesian distance calculation for 14 data point \n",
        "import math \n",
        "def CartesianDistanceForTest1():\n",
        "  ans=[]\n",
        "  ans1=[]\n",
        "  ans2=[]\n",
        "  ans3=[]\n",
        "  q0=queue[0]\n",
        "  q1=queue[1]\n",
        "  q2=queue[2]\n",
        "  q3=queue[3]\n",
        "  for i in range(len(x)):\n",
        "    ans.append(math.sqrt((x[i]-q0[0])**2+(y[i]-q0[1])**2+(a[i]-q0[2])**2))\n",
        "    ans1.append(math.sqrt((x[i]-q1[0])**2+(y[i]-q1[1])**2+(a[i]-q1[2])**2))\n",
        "    ans2.append(math.sqrt((x[i]-q2[0])**2+(y[i]-q2[1])**2+(a[i]-q2[2])**2))\n",
        "    ans3.append(math.sqrt((x[i]-q3[0])**2+(y[i]-q3[1])**2+(a[i]-q3[2])**2))\n",
        "  return ans,ans1,ans2,ans3\n",
        "#uncomment below line to see Cartesian distance \n",
        "# CartesianDistanceForTest1()"
      ],
      "metadata": {
        "id": "jtV9NRwJ5o0E"
      },
      "execution_count": null,
      "outputs": []
    },
    {
      "cell_type": "code",
      "source": [
        "##Cartesian distance calculation for 120 data point \n",
        "def CartesianDistanceForTest2():\n",
        "  masterAns=[]\n",
        "  for i in range(len(test2)):\n",
        "    ans=[]\n",
        "    for j in range(len(x)):\n",
        "      ans.append(dis(x[j],float(test2[i][0]),y[j],float(test2[i][1]),a[j],int(test2[i][2])))\n",
        "    masterAns.append(ans)\n",
        "  return masterAns"
      ],
      "metadata": {
        "id": "jKWE2kqEgHCG"
      },
      "execution_count": null,
      "outputs": []
    },
    {
      "cell_type": "code",
      "source": [
        "# Cartesian prediction for 14 data point\n",
        "def CartesianPredictionForTest1(inpu):\n",
        "  allans=CartesianDistanceForTest1()\n",
        "  ans=allans[0]\n",
        "  ans1=allans[1]\n",
        "  ans2=allans[2]\n",
        "  ans3=allans[3]\n",
        "  c=math.ceil(inpu/2)\n",
        "  l1=sorted(ans)[:inpu]\n",
        "  l2=sorted(ans1)[:inpu]\n",
        "  l3=sorted(ans2)[:inpu]\n",
        "  l4=sorted(ans3)[:inpu]\n",
        "  i1=[]\n",
        "  i2=[]\n",
        "  i3=[]\n",
        "  i4=[]\n",
        "  m1=0\n",
        "  m2=0\n",
        "  m3=0\n",
        "  m4=0\n",
        "  f1=0\n",
        "  f2=0\n",
        "  f3=0\n",
        "  f4=0\n",
        "  answer=[]\n",
        "  for i in range(0,inpu):\n",
        "    i1.append(ans.index(l1[i]))\n",
        "    i2.append(ans1.index(l2[i]))\n",
        "    i3.append(ans2.index(l3[i]))\n",
        "    i4.append(ans3.index(l4[i]))\n",
        "    if g[i1[i]] == 'M':\n",
        "      m1+=1\n",
        "    else:\n",
        "      f1+=1\n",
        "    if g[i2[i]] == 'M':\n",
        "      m2+=1\n",
        "    else:\n",
        "      f2+=1\n",
        "    if g[i3[i]] == 'M':\n",
        "      m3+=1\n",
        "    else:\n",
        "      f3+=1\n",
        "    if g[i4[i]] == 'M':\n",
        "      m4+=1\n",
        "    else:\n",
        "      f4+=1\n",
        "  if m1>=c:\n",
        "    answer.append('M')\n",
        "  else:\n",
        "    answer.append('W')\n",
        "  if m2>=c:\n",
        "    answer.append('M')\n",
        "  else:\n",
        "    answer.append('W')\n",
        "  if m3>=c:\n",
        "    answer.append('M')\n",
        "  else:\n",
        "    answer.append('W')\n",
        "  if m4>=c:\n",
        "    answer.append('M')\n",
        "  else:\n",
        "    answer.append('W')\n",
        "  return answer\n"
      ],
      "metadata": {
        "id": "iP5wq9HRDe4M"
      },
      "execution_count": null,
      "outputs": []
    },
    {
      "cell_type": "code",
      "source": [
        "# Cartesian prediction for 120 data point\n",
        "def CartesianPredictionForTest2(inpu):\n",
        "  allans=[]\n",
        "  allans=CartesianDistanceForTest2()\n",
        "  # print(allans[0])\n",
        "  c=math.ceil(inpu/2)\n",
        "  sortedList=[]\n",
        "  for i in range(len(allans)):\n",
        "    sortedList.append(sorted(allans[i])[:inpu])\n",
        "  l1=sorted(allans[0])[:inpu]\n",
        "  # print(sortedList)\n",
        "  answer=[]\n",
        "  masterIndexAns=[]\n",
        "  for i in range(len(allans)):\n",
        "    ans=[]\n",
        "    m,f=0,0\n",
        "    for j in range(inpu):\n",
        "      ans.append(allans[i].index(sortedList[i][j]))\n",
        "      if g[ans[j]] == 'M':\n",
        "        m+=1\n",
        "      else:\n",
        "        f+=1\n",
        "    if m>=c:\n",
        "      answer.append('M')\n",
        "    else:\n",
        "      answer.append('W')\n",
        "    # print(answer,m,f)\n",
        "    masterIndexAns.append(ans)\n",
        "  return answer\n",
        "  # print(masterIndexAns)"
      ],
      "metadata": {
        "id": "5NUIitE8jXkE"
      },
      "execution_count": null,
      "outputs": []
    },
    {
      "cell_type": "code",
      "source": [
        "#manhattan distance calculation \n",
        "def ManDis(a,ta,b,tb,c,tc):\n",
        "  return (abs(a-ta)+abs(b-tb)+abs(c-tc))"
      ],
      "metadata": {
        "id": "3djw9_N6yVXU"
      },
      "execution_count": null,
      "outputs": []
    },
    {
      "cell_type": "code",
      "source": [
        "#Manhattan Dsiatance for 14 data point\n",
        "import math \n",
        "def ManhattanDistanceForTest1():\n",
        "  ans=[]\n",
        "  ans1=[]\n",
        "  ans2=[]\n",
        "  ans3=[]\n",
        "  p = ([x[0],y[0],a[0]])\n",
        "  q=[1.62065758929,59.376557437583,32]\n",
        "  q1=[1.7793983848363, 72.071775670801, 36]\n",
        "  q2=[1.7004576585974, 66.267508112786, 31]\n",
        "  q3=[1.6591086215159, 61.751621901787, 29]\n",
        "  for i in range(len(x)):\n",
        "    t=[]\n",
        "    t1=[]\n",
        "    t2=[]\n",
        "    t3=[]\n",
        "    t = (abs(x[i]-q[0])+abs(y[i]-q[1])+abs(a[i]-q[2]))\n",
        "    ans.append(t)\n",
        "    t1=(abs(x[i]-q1[0])+abs(y[i]-q1[1])+abs(a[i]-q1[2]))\n",
        "    ans1.append(t1)\n",
        "    t2=(abs(x[i]-q2[0])+abs(y[i]-q2[1])+abs(a[i]-q2[2]))\n",
        "    ans2.append(t2)\n",
        "    t3=(abs(x[i]-q3[0])+abs(y[i]-q3[1])+abs(a[i]-q3[2]))\n",
        "    ans3.append(t3)\n",
        "  return ans,ans1,ans2,ans3"
      ],
      "metadata": {
        "id": "eUtmzW94Hpfy"
      },
      "execution_count": null,
      "outputs": []
    },
    {
      "cell_type": "code",
      "source": [
        "#Manhattan Dsiatance for 120 data point\n",
        "def ManhattanDistanceForTest2():\n",
        "  masterAns=[]\n",
        "  for i in range(len(test2)):\n",
        "    ans=[]\n",
        "    for j in range(len(x)):\n",
        "      ans.append(ManDis(x[j],float(test2[i][0]),y[j],float(test2[i][1]),a[j],int(test2[i][2])))\n",
        "    masterAns.append(ans)\n",
        "  return masterAns"
      ],
      "metadata": {
        "id": "KMkEblK6y1Rh"
      },
      "execution_count": null,
      "outputs": []
    },
    {
      "cell_type": "code",
      "source": [
        "# manhattan prediction for 14 data point\n",
        "def ManhattanPredictionForTest1(inpu):\n",
        "  allans=ManhattanDistanceForTest1()\n",
        "  ans=allans[0]\n",
        "  ans1=allans[1]\n",
        "  ans2=allans[2]\n",
        "  ans3=allans[3]\n",
        "  c=math.ceil(inpu/2)\n",
        "  l1=sorted(ans)[:inpu]\n",
        "  l2=sorted(ans1)[:inpu]\n",
        "  l3=sorted(ans2)[:inpu]\n",
        "  l4=sorted(ans3)[:inpu]\n",
        "  i1=[]\n",
        "  i2=[]\n",
        "  i3=[]\n",
        "  i4=[]\n",
        "  m1=0\n",
        "  m2=0\n",
        "  m3=0\n",
        "  m4=0\n",
        "  f1=0\n",
        "  f2=0\n",
        "  f3=0\n",
        "  f4=0\n",
        "  answer=[]\n",
        "  for i in range(0,inpu):\n",
        "    i1.append(ans.index(l1[i]))\n",
        "    i2.append(ans1.index(l2[i]))\n",
        "    i3.append(ans2.index(l3[i]))\n",
        "    i4.append(ans3.index(l4[i]))\n",
        "    if g[i1[i]] == 'M':\n",
        "      m1+=1\n",
        "    else:\n",
        "      f1+=1\n",
        "    if g[i2[i]] == 'M':\n",
        "      m2+=1\n",
        "    else:\n",
        "      f2+=1\n",
        "    if g[i3[i]] == 'M':\n",
        "      m3+=1\n",
        "    else:\n",
        "      f3+=1\n",
        "    if g[i4[i]] == 'M':\n",
        "      m4+=1\n",
        "    else:\n",
        "      f4+=1\n",
        "  if m1>=c:\n",
        "    answer.append('M')\n",
        "  else:\n",
        "    answer.append('W')\n",
        "  if m2>=c:\n",
        "    answer.append('M')\n",
        "  else:\n",
        "    answer.append('W')\n",
        "  if m3>=c:\n",
        "    answer.append('M')\n",
        "  else:\n",
        "    answer.append('W')\n",
        "  if m4>=c:\n",
        "    answer.append('M')\n",
        "  else:\n",
        "    answer.append('W')\n",
        "  return answer"
      ],
      "metadata": {
        "id": "-kcrJ9_HjVgt"
      },
      "execution_count": null,
      "outputs": []
    },
    {
      "cell_type": "code",
      "source": [
        "# manhattan prediction for 120 data point\n",
        "def ManhattanPredictionForTest2(inpu):\n",
        "  allans=[]\n",
        "  allans=ManhattanDistanceForTest2()\n",
        "  c=math.ceil(inpu/2)\n",
        "  sortedList=[]\n",
        "  for i in range(len(allans)):\n",
        "    sortedList.append(sorted(allans[i])[:inpu])\n",
        "  l1=sorted(allans[0])[:inpu]\n",
        "  answer=[]\n",
        "  masterIndexAns=[]\n",
        "  for i in range(len(allans)):\n",
        "    ans=[]\n",
        "    m,f=0,0\n",
        "    for j in range(inpu):\n",
        "      ans.append(allans[i].index(sortedList[i][j]))\n",
        "      if g[ans[j]] == 'M':\n",
        "        m+=1\n",
        "      else:\n",
        "        f+=1\n",
        "    if m>=c:\n",
        "      answer.append('M')\n",
        "    else:\n",
        "      answer.append('W')\n",
        "    masterIndexAns.append(ans)\n",
        "  return answer"
      ],
      "metadata": {
        "id": "8Gg47IcKzeP1"
      },
      "execution_count": null,
      "outputs": []
    },
    {
      "cell_type": "code",
      "source": [
        "def MinDis(a,ta,b,tb,c,tc):\n",
        "  return ((abs(pow(a-ta,3))+abs(pow(b-tb,3))+abs(pow(c-tc,3)))**(1/3))"
      ],
      "metadata": {
        "id": "-7aR2OFU0sIK"
      },
      "execution_count": null,
      "outputs": []
    },
    {
      "cell_type": "code",
      "source": [
        "#Minkowski Distance \n",
        "import math \n",
        "def MinkowskiDistanceForTest1():\n",
        "  ans=[]\n",
        "  ans1=[]\n",
        "  ans2=[]\n",
        "  ans3=[]\n",
        "\n",
        "  p = ([x[0],y[0],a[0]])\n",
        "  q0=[1.62065758929,59.376557437583,32]\n",
        "  q1=[1.7793983848363, 72.071775670801, 36]\n",
        "  q2=[1.7004576585974, 66.267508112786, 31]\n",
        "  q3=[1.6591086215159, 61.751621901787, 29]\n",
        "  for i in range(len(x)):\n",
        "    ans.append((abs(pow(x[i]-q0[0],3))+abs(pow(y[i]-q0[1],3))+abs(pow(a[i]-q0[2],3)))**(1/3))\n",
        "    ans1.append((abs(pow(x[i]-q1[0],3))+abs(pow(y[i]-q1[1],3))+abs(pow(a[i]-q1[2],3)))**(1/3))\n",
        "    ans2.append((abs(pow(x[i]-q2[0],3))+abs(pow(y[i]-q2[1],3))+abs(pow(a[i]-q2[2],3)))**(1/3))\n",
        "    ans3.append((abs(pow(x[i]-q3[0],3))+abs(pow(y[i]-q3[1],3))+abs(pow(a[i]-q3[2],3)))**(1/3))\n",
        "  return ans,ans1,ans2,ans3"
      ],
      "metadata": {
        "id": "_w-6Y-aiev68"
      },
      "execution_count": null,
      "outputs": []
    },
    {
      "cell_type": "code",
      "source": [
        "def MinkowskiDistanceForTest2():\n",
        "  masterAns=[]\n",
        "  for i in range(len(test2)):\n",
        "    ans=[]\n",
        "    for j in range(len(x)):\n",
        "      ans.append(MinDis(x[j],float(test2[i][0]),y[j],float(test2[i][1]),a[j],int(test2[i][2])))\n",
        "    masterAns.append(ans)\n",
        "  return masterAns"
      ],
      "metadata": {
        "id": "rC4-aNC52Ftu"
      },
      "execution_count": null,
      "outputs": []
    },
    {
      "cell_type": "code",
      "source": [
        "def MinkowskiPredictionForTest1(inpu):\n",
        "  allans=MinkowskiDistanceForTest1()\n",
        "  ans=allans[0]\n",
        "  ans1=allans[1]\n",
        "  ans2=allans[2]\n",
        "  ans3=allans[3]\n",
        "  c=math.ceil(inpu/2)\n",
        "  l1=sorted(ans)[:inpu]\n",
        "  l2=sorted(ans1)[:inpu]\n",
        "  l3=sorted(ans2)[:inpu]\n",
        "  l4=sorted(ans3)[:inpu]\n",
        "  i1=[]\n",
        "  i2=[]\n",
        "  i3=[]\n",
        "  i4=[]\n",
        "  m1=0\n",
        "  m2=0\n",
        "  m3=0\n",
        "  m4=0\n",
        "  f1=0\n",
        "  f2=0\n",
        "  f3=0\n",
        "  f4=0\n",
        "  answer=[]\n",
        "  for i in range(0,inpu):\n",
        "    i1.append(ans.index(l1[i]))\n",
        "    i2.append(ans1.index(l2[i]))\n",
        "    i3.append(ans2.index(l3[i]))\n",
        "    i4.append(ans3.index(l4[i]))\n",
        "    if g[i1[i]] == 'M':\n",
        "      m1+=1\n",
        "    else:\n",
        "      f1+=1\n",
        "    if g[i2[i]] == 'M':\n",
        "      m2+=1\n",
        "    else:\n",
        "      f2+=1\n",
        "    if g[i3[i]] == 'M':\n",
        "      m3+=1\n",
        "    else:\n",
        "      f3+=1\n",
        "    if g[i4[i]] == 'M':\n",
        "      m4+=1\n",
        "    else:\n",
        "      f4+=1\n",
        "  if m1>=c:\n",
        "    answer.append('M')\n",
        "  else:\n",
        "    answer.append('W')\n",
        "  if m2>=c:\n",
        "    answer.append('M')\n",
        "  else:\n",
        "    answer.append('W')\n",
        "  if m3>=c:\n",
        "    answer.append('M')\n",
        "  else:\n",
        "    answer.append('W')\n",
        "  if m4>=c:\n",
        "    answer.append('M')\n",
        "  else:\n",
        "    answer.append('W')\n",
        "  return answer"
      ],
      "metadata": {
        "id": "mhCiDnkXjn7S"
      },
      "execution_count": null,
      "outputs": []
    },
    {
      "cell_type": "code",
      "source": [
        "def MinkowskiPredictionForTest2(inpu):\n",
        "  allans=[]\n",
        "  allans=MinkowskiDistanceForTest2()\n",
        "  # print(allans[0])\n",
        "  c=math.ceil(inpu/2)\n",
        "  sortedList=[]\n",
        "  for i in range(len(allans)):\n",
        "    sortedList.append(sorted(allans[i])[:inpu])\n",
        "  l1=sorted(allans[0])[:inpu]\n",
        "  # print(sortedList)\n",
        "  answer=[]\n",
        "  masterIndexAns=[]\n",
        "  for i in range(len(allans)):\n",
        "    ans=[]\n",
        "    m,f=0,0\n",
        "    for j in range(inpu):\n",
        "      ans.append(allans[i].index(sortedList[i][j]))\n",
        "      if g[ans[j]] == 'M':\n",
        "        m+=1\n",
        "      else:\n",
        "        f+=1\n",
        "    if m>=c:\n",
        "      answer.append('M')\n",
        "    else:\n",
        "      answer.append('W')\n",
        "    # print(answer,m,f)\n",
        "    masterIndexAns.append(ans)\n",
        "  return answer\n",
        "  # print(masterIndexAns)"
      ],
      "metadata": {
        "id": "PGP_pZNq1IR3"
      },
      "execution_count": null,
      "outputs": []
    },
    {
      "cell_type": "markdown",
      "source": [
        "### ** Question: **1** C**"
      ],
      "metadata": {
        "id": "Z3V8dhvVfAlL"
      }
    },
    {
      "cell_type": "code",
      "source": [
        "# data formatting for as per leave-out condition\n",
        "masterans=[]\n",
        "masterGen=[]\n",
        "masterTrainingDataX=[]\n",
        "masterTrainingDataY=[]\n",
        "masterTrainingDataA=[]\n",
        "for i in range(len(x2)):\n",
        "  testx=0\n",
        "  testy=0\n",
        "  testa=0\n",
        "  trainx=[]\n",
        "  trainy=[]\n",
        "  traina=[]\n",
        "  traing=[]\n",
        "  ans=[]\n",
        "  for j in range(len(x2)):\n",
        "    if i==j:\n",
        "      testx=x2[j]\n",
        "      testy=y2[j]\n",
        "      testa=a2[j]\n",
        "    else:\n",
        "      trainx.append(x2[j])\n",
        "      trainy.append(y2[j])\n",
        "      traina.append(a2[j])\n",
        "      traing.append(g2[j])\n",
        "  for k in range(len(x2)-1):\n",
        "    temp=dis(trainx[k],testx,trainy[k],testy,traina[k],testa)\n",
        "    ans.append(temp)\n",
        "  masterTrainingDataX.append(trainx)\n",
        "  masterTrainingDataY.append(trainy)\n",
        "  masterTrainingDataA.append(traina)\n",
        "  masterans.append(ans)\n",
        "  masterGen.append(traing)"
      ],
      "metadata": {
        "id": "L6cUH6aZ4aUI"
      },
      "execution_count": null,
      "outputs": []
    },
    {
      "cell_type": "code",
      "source": [
        "#leave out prediction \n",
        "import math\n",
        "def LeaveOutPrediction(inpu):\n",
        "  sucess=0\n",
        "  for i in range(0,len(masterGen)):\n",
        "    tempArr=masterans[i]\n",
        "    tempgen=masterGen[i]\n",
        "    # print(len(tempArr),len(tempgen))\n",
        "    for j in range(len(masterGen)-1):\n",
        "      ans=tempArr\n",
        "      c=math.ceil(inpu/2)\n",
        "      l1=sorted(ans)[:inpu]\n",
        "      i1=[]\n",
        "      m=0\n",
        "      f=0\n",
        "      answerr=[]\n",
        "      for k in range(inpu):\n",
        "        i1.append(ans.index(l1[k]))\n",
        "        if tempgen[i1[k]] == 'M':\n",
        "          m+=1\n",
        "        else:\n",
        "          f+=1\n",
        "    if m>=c and g2[i] == 'M':\n",
        "      sucess+=1\n",
        "      answerr.append('M')\n",
        "    elif f>=c and g2[i] == 'W':\n",
        "      sucess+=1\n",
        "      answerr.append('W')\n",
        "    # print(m,f,sucess,g2[i])\n",
        "  print(\"Acurracy for k =\",inpu,\"is\",(sucess/len(x2))*100,\"%\")\n",
        "  print(\"Erroneous for k =\",inpu,\"is\",(1-sucess/len(x2))*100,\"%\")\n",
        "\n"
      ],
      "metadata": {
        "id": "mNspRi7Y9-3G"
      },
      "execution_count": null,
      "outputs": []
    },
    {
      "cell_type": "markdown",
      "source": [
        "# **Now we are removing age data from prediction algorith and see what will be accuracy**"
      ],
      "metadata": {
        "id": "ltJ99cq-pL14"
      }
    },
    {
      "cell_type": "code",
      "source": [
        "import math\n",
        "def dist(a,ta,b,tb):\n",
        "  return math.sqrt((a-ta)**2+(b-tb)**2)"
      ],
      "metadata": {
        "id": "G6u-A10ips48"
      },
      "execution_count": null,
      "outputs": []
    },
    {
      "cell_type": "code",
      "source": [
        "#age removing and data fornmatting\n",
        "masterAns=[]\n",
        "masterGender=[]\n",
        "for i in range(len(x2)):\n",
        "  testx=0\n",
        "  testy=0\n",
        "  trainx=[]\n",
        "  trainy=[]\n",
        "  traing=[]\n",
        "  ans=[]\n",
        "  for j in range(len(x2)):\n",
        "    if i==j:\n",
        "      testx=x2[j]\n",
        "      testy=y2[j]\n",
        "    else:\n",
        "      trainx.append(x2[j])\n",
        "      trainy.append(y2[j])\n",
        "      traing.append(g2[j])\n",
        "  for k in range(len(x2)-1):\n",
        "    temp=dist(trainx[k],testx,trainy[k],testy)\n",
        "    ans.append(temp)\n",
        "  masterAns.append(ans)\n",
        "  masterGender.append(traing)\n"
      ],
      "metadata": {
        "id": "7XB7W01YpEOB"
      },
      "execution_count": null,
      "outputs": []
    },
    {
      "cell_type": "code",
      "source": [
        "#age removed prediction\n",
        "import math\n",
        "def LeaveOutPredictionFor1D(inpu):\n",
        "  sucess=0\n",
        "  for i in range(0,len(masterGen)):\n",
        "    tempArr=masterAns[i]\n",
        "    tempgen=masterGender[i]\n",
        "    # print(len(tempArr),len(tempgen))\n",
        "    for j in range(len(masterGen)-1):\n",
        "      ans=tempArr\n",
        "      c=math.ceil(inpu/2)\n",
        "      l1=sorted(ans)[:inpu]\n",
        "      i1=[]\n",
        "      m=0\n",
        "      f=0\n",
        "      answerr=[]\n",
        "      for k in range(inpu):\n",
        "        i1.append(ans.index(l1[k]))\n",
        "        if tempgen[i1[k]] == 'M':\n",
        "          m+=1\n",
        "        else:\n",
        "          f+=1\n",
        "    if m>=c and g2[i] == 'M':\n",
        "      sucess+=1\n",
        "      answerr.append('M')\n",
        "    elif f>=c and g2[i] == 'W':\n",
        "      sucess+=1\n",
        "      answerr.append('W')\n",
        "    # print(m,f,sucess,g2[i])\n",
        "  print(\"Acurracy when age data is removed for k =\",inpu,\"is\",(sucess/len(x2))*100,\"%\")\n",
        "  print(\"Erroneous when age data is removed for k =\",inpu,\"is\",(1-sucess/len(x2))*100,\"%\")"
      ],
      "metadata": {
        "id": "k6UNK-yfqwcd"
      },
      "execution_count": null,
      "outputs": []
    },
    {
      "cell_type": "markdown",
      "source": [
        "\n",
        "# **Finished Quetion 1 Here...... Hurrayyyyyyy**"
      ],
      "metadata": {
        "id": "qlc5vrTerhFK"
      }
    },
    {
      "cell_type": "code",
      "source": [
        "#mean calculation\n",
        "import math\n",
        "def mean(arr):\n",
        "  su=sum(arr)\n",
        "  ave=su/len(arr)\n",
        "  return ave"
      ],
      "metadata": {
        "id": "eHfHly9DAQDG"
      },
      "execution_count": null,
      "outputs": []
    },
    {
      "cell_type": "code",
      "source": [
        "# standard devation calculation\n",
        "import math\n",
        "def sd(arr):\n",
        "    me = mean(arr)\n",
        "    var = sum((i - me)**2 for i in arr) / (len(arr)-1)\n",
        "    sdev = pow(var,0.5)\n",
        "    return sdev\n"
      ],
      "metadata": {
        "id": "bTxXYWNqGROx"
      },
      "execution_count": null,
      "outputs": []
    },
    {
      "cell_type": "code",
      "source": [
        "#for M height\n",
        "import math\n",
        "def hForM():\n",
        "  arrHM=[]\n",
        "  for i in range(len(x)):\n",
        "    if g[i] == 'M':\n",
        "      arrHM.append(x[i])\n",
        "  return arrHM"
      ],
      "metadata": {
        "id": "uC9bTE0Crg3T"
      },
      "execution_count": null,
      "outputs": []
    },
    {
      "cell_type": "code",
      "source": [
        "#for M weight\n",
        "import math\n",
        "def wForM():\n",
        "  arrHM=[]\n",
        "  for i in range(len(x)):\n",
        "    if g[i] == 'M':\n",
        "      arrHM.append(y[i])\n",
        "  return arrHM"
      ],
      "metadata": {
        "id": "evThff3MMIjX"
      },
      "execution_count": null,
      "outputs": []
    },
    {
      "cell_type": "code",
      "source": [
        "#for M age\n",
        "import math\n",
        "def aForM():\n",
        "  arrHM=[]\n",
        "  for i in range(len(x)):\n",
        "    if g[i] == 'M':\n",
        "      arrHM.append(a[i])\n",
        "  return arrHM"
      ],
      "metadata": {
        "id": "LKZU4cnnMJW2"
      },
      "execution_count": null,
      "outputs": []
    },
    {
      "cell_type": "code",
      "source": [
        "#for W height\n",
        "import math\n",
        "def hForW():\n",
        "  arrHW=[]\n",
        "  for i in range(len(x)):\n",
        "    if g[i] == 'W':\n",
        "      arrHW.append(x[i])\n",
        "  return arrHW"
      ],
      "metadata": {
        "id": "SiDSnSps_T6K"
      },
      "execution_count": null,
      "outputs": []
    },
    {
      "cell_type": "code",
      "source": [
        "#for W weight\n",
        "import math\n",
        "def wForW():\n",
        "  arrHW=[]\n",
        "  for i in range(len(x)):\n",
        "    if g[i] == 'W':\n",
        "      arrHW.append(y[i])\n",
        "  return arrHW"
      ],
      "metadata": {
        "id": "55XMtNxlNCTR"
      },
      "execution_count": null,
      "outputs": []
    },
    {
      "cell_type": "code",
      "source": [
        "#for W age\n",
        "import math\n",
        "def aForW():\n",
        "  arrHW=[]\n",
        "  for i in range(len(x)):\n",
        "    if g[i] == 'W':\n",
        "      arrHW.append(a[i])\n",
        "  return arrHW"
      ],
      "metadata": {
        "id": "8eoByvGtNC4d"
      },
      "execution_count": null,
      "outputs": []
    },
    {
      "cell_type": "code",
      "source": [
        "meanHM=mean(hForM())\n",
        "meanWM=mean(wForM())\n",
        "meanAM=mean(aForM())\n",
        "meanHW=mean(hForW())\n",
        "meanWW=mean(wForW())\n",
        "meanAW=mean(aForW())\n",
        "sdHM=sd(hForM())\n",
        "sdWM=sd(wForM())\n",
        "sdAM=sd(aForM())\n",
        "sdHW=sd(hForW())\n",
        "sdWW=sd(wForW())\n",
        "sdAW=sd(aForW())\n",
        "# all nessary variable for gussian naive baysen calculations \n",
        "#HM= height for men\n",
        "#AW= age for women"
      ],
      "metadata": {
        "id": "Iz2jEBHaC7qm"
      },
      "execution_count": null,
      "outputs": []
    },
    {
      "cell_type": "markdown",
      "source": [
        "![image.png](data:image/png;base64,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)"
      ],
      "metadata": {
        "id": "UNjtAuOChfZg"
      }
    },
    {
      "cell_type": "code",
      "source": [
        "# normal distrubution calculation for gussian naive baysen for Women\n",
        "def naiveBayseW(h,w,a):\n",
        "  ans=0\n",
        "  con=1/math.sqrt(2*math.pi*(sdAW**2))\n",
        "  e=-(((a - meanAW)**2)/(2*(sdAW**2)))\n",
        "  con2=math.exp(e)\n",
        "  aw=con*con2\n",
        "\n",
        "  con=1/math.sqrt(2*math.pi*(sdHW**2))\n",
        "  e=-(((h - meanHW)**2)/(2*(sdHW**2)))\n",
        "  con2=math.exp(e)\n",
        "  hw=con*con2\n",
        "\n",
        "  con=1/math.sqrt(2*math.pi*(sdWW**2))\n",
        "  e=-(((w- meanWW)**2)/(2*(sdWW**2)))\n",
        "  con2=math.exp(e)\n",
        "  ww=con*con2\n",
        "  ans=ww*aw*hw\n",
        "  return ans\n"
      ],
      "metadata": {
        "id": "Q4c9AzKdctdP"
      },
      "execution_count": null,
      "outputs": []
    },
    {
      "cell_type": "code",
      "source": [
        "# normal distrubution calculation for gussian naive baysen for Men\n",
        "def naiveBayseM(h,w,a):\n",
        "  ans=0\n",
        "  con=1/math.sqrt(2*math.pi*(sdAM**2))\n",
        "  e=-(((a - meanAM)**2)/(2*(sdAM**2)))\n",
        "  con2=math.exp(e)\n",
        "  am=con*con2\n",
        "  con=1/math.sqrt(2*math.pi*(sdHM**2))\n",
        "  e=-(((h - meanHM)**2)/(2*(sdHM**2)))\n",
        "  con2=math.exp(e)\n",
        "  hm=con*con2\n",
        "\n",
        "  con2=math.exp(-(((w - meanWM)**2)/(2*(sdWM**2))))/math.sqrt(2*math.pi*(sdWM**2))\n",
        "  ansm=am*hm*con2\n",
        "  return ansm"
      ],
      "metadata": {
        "id": "K75kSMFsVanE"
      },
      "execution_count": null,
      "outputs": []
    },
    {
      "cell_type": "code",
      "source": [
        "#prediction based on prediction answer \n",
        "def naiveBaysespredictionForTest1():\n",
        "  ansArr=[]\n",
        "  for i in range(len(tx)):\n",
        "    if naiveBayseM(queue[i][0],queue[i][1],queue[i][2]) > naiveBayseW(queue[i][0],queue[i][1],queue[i][2]):\n",
        "      ansArr.append(\"M\")\n",
        "    else:\n",
        "      ansArr.append(\"W\")\n",
        "    # print(naiveBayseM(queue[i][0],queue[i][1],queue[i][2]),naiveBayseW(queue[i][0],queue[i][1],queue[i][2]))\n",
        "  print(\"Naive bayses prediction answer for 2 A : \",ansArr)"
      ],
      "metadata": {
        "id": "osHlNhXVh-aL"
      },
      "execution_count": null,
      "outputs": []
    },
    {
      "cell_type": "code",
      "source": [
        "##prediction based on prediction answer for diffrent test inputs from testInput.txt file\n",
        "def naiveBaysespredictionForTest2():\n",
        "  ansArr=[]\n",
        "  for i in range(len(test2)):\n",
        "    if naiveBayseM(float(test2[i][0]),float(test2[i][1]),int(test2[i][2])) > naiveBayseW(float(test2[i][0]),float(test2[i][1]),int(test2[i][2])):\n",
        "      ansArr.append(\"M\")\n",
        "    else:\n",
        "      ansArr.append(\"W\")\n",
        "  print(\"Naive bayses prediction answer from testInput.txt fil  2 B : \",ansArr)"
      ],
      "metadata": {
        "id": "M8AbgitOaLHn"
      },
      "execution_count": null,
      "outputs": []
    },
    {
      "cell_type": "markdown",
      "source": [
        "## **Data formatting and mean , sd calucation for leave out**"
      ],
      "metadata": {
        "id": "er8p2p5iiW2C"
      }
    },
    {
      "cell_type": "code",
      "source": [
        "#for M Height for C \n",
        "import math\n",
        "def hmForTest2():\n",
        "  arr=[]\n",
        "  for i in range(len(x2)):\n",
        "    ans=[]\n",
        "    for j in range(len(masterTrainingDataX[0])):\n",
        "      if masterGender[i][j] == 'M':\n",
        "        ans.append(masterTrainingDataX[i][j])\n",
        "    arr.append(ans)\n",
        "  # print(ans)\n",
        "  return arr"
      ],
      "metadata": {
        "id": "UsR9GilRdWWd"
      },
      "execution_count": null,
      "outputs": []
    },
    {
      "cell_type": "code",
      "source": [
        "#for M weight for c\n",
        "import math\n",
        "def wmForTest2():\n",
        "  arr=[]\n",
        "  for i in range(len(x2)):\n",
        "    ans=[]\n",
        "    for j in range(len(masterTrainingDataX[0])):\n",
        "      if masterGender[i][j] == 'M':\n",
        "        ans.append(masterTrainingDataY[i][j])\n",
        "    arr.append(ans)\n",
        "  # print(ans)\n",
        "  return arr"
      ],
      "metadata": {
        "id": "WNYGQDc7-ZSO"
      },
      "execution_count": null,
      "outputs": []
    },
    {
      "cell_type": "code",
      "source": [
        "#for M weight for C\n",
        "import math\n",
        "def amForTest2():\n",
        "  arr=[]\n",
        "  for i in range(len(x2)):\n",
        "    ans=[]\n",
        "    for j in range(len(masterTrainingDataX[0])):\n",
        "      if masterGender[i][j] == 'M':\n",
        "        ans.append(masterTrainingDataA[i][j])\n",
        "    arr.append(ans)\n",
        "  # print(ans)\n",
        "  return arr"
      ],
      "metadata": {
        "id": "d5ZtyC0adjdR"
      },
      "execution_count": null,
      "outputs": []
    },
    {
      "cell_type": "code",
      "source": [
        "#for W height for C\n",
        "import math\n",
        "def hwForTest2():\n",
        "  arr=[]\n",
        "  for i in range(len(x2)):\n",
        "    ans=[]\n",
        "    for j in range(len(masterTrainingDataX[0])):\n",
        "      if masterGender[i][j] == 'W':\n",
        "        ans.append(masterTrainingDataX[i][j])\n",
        "    arr.append(ans)\n",
        "  # print(ans)\n",
        "  return arr"
      ],
      "metadata": {
        "id": "RapflpoNc8lz"
      },
      "execution_count": null,
      "outputs": []
    },
    {
      "cell_type": "code",
      "source": [
        "#for W weight for C\n",
        "import math\n",
        "def wwForTest2():\n",
        "  arr=[]\n",
        "  for i in range(len(x2)):\n",
        "    ans=[]\n",
        "    for j in range(len(masterTrainingDataX[0])):\n",
        "      if masterGender[i][j] == 'W':\n",
        "        ans.append(masterTrainingDataY[i][j])\n",
        "    arr.append(ans)\n",
        "  # print(ans)\n",
        "  return arr\n"
      ],
      "metadata": {
        "id": "GaL954tgd-GY"
      },
      "execution_count": null,
      "outputs": []
    },
    {
      "cell_type": "code",
      "source": [
        "#for W age for C\n",
        "import math\n",
        "def awForTest2():\n",
        "  arr=[]\n",
        "  for i in range(len(x2)):\n",
        "    ans=[]\n",
        "    for j in range(len(masterTrainingDataX[0])):\n",
        "      if masterGender[i][j] == 'W':\n",
        "        ans.append(masterTrainingDataA[i][j])\n",
        "    arr.append(ans)\n",
        "  # print(ans)\n",
        "  return arr\n"
      ],
      "metadata": {
        "id": "TTMkflmrd--4"
      },
      "execution_count": null,
      "outputs": []
    },
    {
      "cell_type": "code",
      "source": [
        "#MEAN CALCULATION FOR 2 C\n",
        "import math\n",
        "def meanTest2(arr):\n",
        "  ans=[]\n",
        "  k=0\n",
        "  for i in range(len(arr)):\n",
        "    su=sum(arr[i])\n",
        "    ave = su/len(arr[i])\n",
        "    k+=1\n",
        "    ans.append(ave)\n",
        "  return ans"
      ],
      "metadata": {
        "id": "h_5TMJW4fQo6"
      },
      "execution_count": null,
      "outputs": []
    },
    {
      "cell_type": "code",
      "source": [
        "#SD CALCULATION FOR 2 C \n",
        "import math\n",
        "def sdTest2(arr):\n",
        "  ans=[]\n",
        "  k=0\n",
        "  for i in range(len(arr)):\n",
        "    me = mean(arr[i])\n",
        "    var = sum((i - me)**2 for i in arr[i]) / (len(arr[i])-1)\n",
        "    sdev = pow(var,0.5)\n",
        "    k+=1\n",
        "    ans.append(sdev)\n",
        "  return ans"
      ],
      "metadata": {
        "id": "LBaskqh2lDEA"
      },
      "execution_count": null,
      "outputs": []
    },
    {
      "cell_type": "code",
      "source": [
        "meanHMTest2=[]\n",
        "meanAMTest2=[]\n",
        "meanWMTest2=[]\n",
        "meanHWTest2=[]\n",
        "meanWWTest2=[]\n",
        "meanAWTest2=[]\n",
        "sdHMTest2=[]\n",
        "sdWMTest2=[]\n",
        "sdAMTest2=[]\n",
        "sdHWTest2=[]\n",
        "sdWWTest2=[]\n",
        "sdAWTest2=[]\n",
        "\n",
        "meanHMTest2=meanTest2(hmForTest2())\n",
        "meanWMTest2=meanTest2(wmForTest2())\n",
        "meanAMTest2=meanTest2(amForTest2())\n",
        "meanHWTest2=meanTest2(hwForTest2())\n",
        "meanWWTest2=meanTest2(wwForTest2())\n",
        "meanAWTest2=meanTest2(awForTest2())\n",
        "sdHMTest2=sdTest2(hmForTest2())\n",
        "sdWMTest2=sdTest2(wmForTest2())\n",
        "sdAMTest2=sdTest2(amForTest2())\n",
        "sdHWTest2=sdTest2(hwForTest2())\n",
        "sdWWTest2=sdTest2(wwForTest2())\n",
        "sdAWTest2=sdTest2(awForTest2())\n",
        "\n",
        "#ALL NESSASARY VARIBLES FOR CALCULATION(EG. meanHMTest2= mean for height label for men for 2C )"
      ],
      "metadata": {
        "id": "Fpo4Ka7FeXeg"
      },
      "execution_count": null,
      "outputs": []
    },
    {
      "cell_type": "code",
      "source": [
        "#Gussian naive baysen calculation for 2C for Women\n",
        "def naiveBayseWTest2():\n",
        "  meanAW=meanAWTest2\n",
        "  meanHW=meanHWTest2\n",
        "  meanWW=meanWWTest2\n",
        "  sdAW=sdAWTest2\n",
        "  sdHW=sdHWTest2\n",
        "  sdWW=sdWWTest2\n",
        "  ans=[]\n",
        "  for i in range(len(sdAWTest2)):\n",
        "    con=1/math.sqrt(2*math.pi*(float(sdAW[i])**2))\n",
        "    e=-(((a2[i] - meanAW[i])**2)/(2*(sdAW[i]**2)))\n",
        "    con2=math.exp(e)\n",
        "    aw=con*con2\n",
        "\n",
        "    con=1/math.sqrt(2*math.pi*(sdHW[i]**2))\n",
        "    e=-(((x2[i] - meanHW[i])**2)/(2*(sdHW[i]**2)))\n",
        "    con2=math.exp(e)\n",
        "    hw=con*con2\n",
        "\n",
        "    con=1/math.sqrt(2*math.pi*(sdWW[i]**2))\n",
        "    e=-(((y2[i]- meanWW[i])**2)/(2*(sdWW[i]**2)))\n",
        "    con2=math.exp(e)\n",
        "    ww=con*con2\n",
        "    ans.append(ww*aw*hw)\n",
        "  return ans"
      ],
      "metadata": {
        "id": "bClK9wKC3Ka-"
      },
      "execution_count": null,
      "outputs": []
    },
    {
      "cell_type": "code",
      "source": [
        "#Gussian naive baysen calculation for 2C for Men\n",
        "def naiveBayseMTest2():\n",
        "  meanAM=meanAMTest2\n",
        "  meanHM=meanHMTest2\n",
        "  meanWM=meanWMTest2\n",
        "  sdAM=sdAMTest2\n",
        "  sdHM=sdHMTest2\n",
        "  sdWM=sdWMTest2\n",
        "  ans=[]\n",
        "  for i in range(len(sdAMTest2)):\n",
        "    # print(i)\n",
        "    con=1/math.sqrt(2*math.pi*(float(sdAM[i])**2))\n",
        "    e=-(((a2[i] - meanAM[i])**2)/(2*(sdAM[i]**2)))\n",
        "    con2=math.exp(e)\n",
        "    aw=con*con2\n",
        "\n",
        "    con=1/math.sqrt(2*math.pi*(sdHM[i]**2))\n",
        "    e=-(((x2[i] - meanHM[i])**2)/(2*(sdHM[i]**2)))\n",
        "    con2=math.exp(e)\n",
        "    hw=con*con2\n",
        "\n",
        "    con=1/math.sqrt(2*math.pi*(sdWM[i]**2))\n",
        "    e=-(((y2[i]- meanWM[i])**2)/(2*(sdWM[i]**2)))\n",
        "    con2=math.exp(e)\n",
        "    ww=con*con2\n",
        "    ans.append(ww*aw*hw)\n",
        "  return ans\n"
      ],
      "metadata": {
        "id": "ObrCr7hU3Lqj"
      },
      "execution_count": null,
      "outputs": []
    },
    {
      "cell_type": "code",
      "source": [
        "#prediction ans for leave out array for 2 C \n",
        "def naiveBaysespredictionFor1C():\n",
        "  ansArr=[]\n",
        "  for i in range(len(x2)):\n",
        "    if naiveBayseMTest2()[i] > naiveBayseWTest2()[i]:\n",
        "      ansArr.append(\"M\")\n",
        "    else:\n",
        "      ansArr.append(\"W\")\n",
        "  # print(\"Naive bayses prediction answer for 1 A : \",ansArr)\n",
        "  return ansArr"
      ],
      "metadata": {
        "id": "nzf1ijfU75z9"
      },
      "execution_count": null,
      "outputs": []
    },
    {
      "cell_type": "markdown",
      "source": [
        "## **Without age**"
      ],
      "metadata": {
        "id": "a-BlJrfgj9YB"
      }
    },
    {
      "cell_type": "code",
      "source": [
        "#Gussian naive baysen calculation for 2C for Women \n",
        "def naiveBayseWTest2():\n",
        "  meanAW=meanAWTest2\n",
        "  meanHW=meanHWTest2\n",
        "  meanWW=meanWWTest2\n",
        "  sdAW=sdAWTest2\n",
        "  sdHW=sdHWTest2\n",
        "  sdWW=sdWWTest2\n",
        "  ans=[]\n",
        "  for i in range(len(sdAWTest2)):\n",
        "\n",
        "    con=1/math.sqrt(2*math.pi*(sdHW[i]**2))\n",
        "    e=-(((x2[i] - meanHW[i])**2)/(2*(sdHW[i]**2)))\n",
        "    con2=math.exp(e)\n",
        "    hw=con*con2\n",
        "\n",
        "    con=1/math.sqrt(2*math.pi*(sdWW[i]**2))\n",
        "    e=-(((y2[i]- meanWW[i])**2)/(2*(sdWW[i]**2)))\n",
        "    con2=math.exp(e)\n",
        "    ww=con*con2\n",
        "    ans.append(ww*hw)\n",
        "  return ans"
      ],
      "metadata": {
        "id": "Gxxjny4DjxcI"
      },
      "execution_count": null,
      "outputs": []
    },
    {
      "cell_type": "code",
      "source": [
        "#Gussian naive baysen calculation for 2C for Men\n",
        "def naiveBayseMTest2():\n",
        "  meanAM=meanAMTest2\n",
        "  meanHM=meanHMTest2\n",
        "  meanWM=meanWMTest2\n",
        "  sdAM=sdAMTest2\n",
        "  sdHM=sdHMTest2\n",
        "  sdWM=sdWMTest2\n",
        "  ans=[]\n",
        "  for i in range(len(sdAMTest2)):\n",
        "\n",
        "    con=1/math.sqrt(2*math.pi*(sdHM[i]**2))\n",
        "    e=-(((x2[i] - meanHM[i])**2)/(2*(sdHM[i]**2)))\n",
        "    con2=math.exp(e)\n",
        "    hw=con*con2\n",
        "\n",
        "    con=1/math.sqrt(2*math.pi*(sdWM[i]**2))\n",
        "    e=-(((y2[i]- meanWM[i])**2)/(2*(sdWM[i]**2)))\n",
        "    con2=math.exp(e)\n",
        "    ww=con*con2\n",
        "    ans.append(ww*hw)\n",
        "  return ans\n"
      ],
      "metadata": {
        "id": "RRuou-cDjxcJ"
      },
      "execution_count": null,
      "outputs": []
    },
    {
      "cell_type": "code",
      "source": [
        "#prediction ans for leave out array for 2 C \n",
        "def naiveBaysespredictionFor1C():\n",
        "  ansArr=[]\n",
        "  for i in range(len(x2)):\n",
        "    if naiveBayseMTest2()[i] > naiveBayseWTest2()[i]:\n",
        "      ansArr.append(\"M\")\n",
        "    else:\n",
        "      ansArr.append(\"W\")\n",
        "  # print(\"Naive bayses prediction answer for 1 A : \",ansArr)\n",
        "  return ansArr"
      ],
      "metadata": {
        "id": "cLxjHEvJjxcK"
      },
      "execution_count": null,
      "outputs": []
    },
    {
      "cell_type": "code",
      "source": [
        "print(\"For K=1, metric = euclidean --> \",CartesianPredictionForTest1(1))\n",
        "print(\"For K=1, metric = Manhattan --> \",ManhattanPredictionForTest1(1))\n",
        "print(\"For K=1, metric = Minkowski --> \",MinkowskiPredictionForTest1(1))"
      ],
      "metadata": {
        "colab": {
          "base_uri": "https://localhost:8080/"
        },
        "id": "wb0mzJM3ct2V",
        "outputId": "f72c87e5-093e-439d-e54b-515b426bab2b"
      },
      "execution_count": null,
      "outputs": [
        {
          "output_type": "stream",
          "name": "stdout",
          "text": [
            "For K=1, metric = euclidean -->  ['W', 'W', 'W', 'W']\n",
            "For K=1, metric = Manhattan -->  ['W', 'W', 'W', 'W']\n",
            "For K=1, metric = Minkowski -->  ['W', 'W', 'W', 'W']\n"
          ]
        }
      ]
    },
    {
      "cell_type": "code",
      "source": [
        "print(\"For K=3, metric = euclidean --> \",CartesianPredictionForTest1(3))\n",
        "print(\"For K=3, metric = Manhattan --> \",ManhattanPredictionForTest1(3))\n",
        "print(\"For K=3, metric = Minkowski --> \",MinkowskiPredictionForTest1(3))"
      ],
      "metadata": {
        "colab": {
          "base_uri": "https://localhost:8080/"
        },
        "id": "pFFlYDI9dPiY",
        "outputId": "42ac0c33-3eb5-4901-d905-857d02c0cfbf"
      },
      "execution_count": null,
      "outputs": [
        {
          "output_type": "stream",
          "name": "stdout",
          "text": [
            "For K=3, metric = euclidean -->  ['W', 'M', 'W', 'W']\n",
            "For K=3, metric = Manhattan -->  ['W', 'M', 'W', 'W']\n",
            "For K=3, metric = Minkowski -->  ['W', 'M', 'W', 'W']\n"
          ]
        }
      ]
    },
    {
      "cell_type": "code",
      "source": [
        "print(\"For K=7, metric = euclidean --> \",CartesianPredictionForTest1(7))\n",
        "print(\"For K=, metric = Manhattan --> \",ManhattanPredictionForTest1(7))\n",
        "print(\"For K=7, metric = Minkowski --> \",MinkowskiPredictionForTest1(7))"
      ],
      "metadata": {
        "colab": {
          "base_uri": "https://localhost:8080/"
        },
        "id": "kMH3NFNLdQAk",
        "outputId": "ae147c87-16df-4a69-f6c9-2340634e379c"
      },
      "execution_count": null,
      "outputs": [
        {
          "output_type": "stream",
          "name": "stdout",
          "text": [
            "For K=7, metric = euclidean -->  ['W', 'M', 'W', 'W']\n",
            "For K=, metric = Manhattan -->  ['W', 'M', 'W', 'W']\n",
            "For K=7, metric = Minkowski -->  ['W', 'M', 'W', 'W']\n"
          ]
        }
      ]
    },
    {
      "cell_type": "markdown",
      "source": [
        "## **#enter K value below**\n",
        "#to change input data, open file testInput.txt and change data and then save it and run code\n",
        "#to change input training data change dataset into set1.txt"
      ],
      "metadata": {
        "id": "AG7YlHdiekuq"
      }
    },
    {
      "cell_type": "code",
      "source": [
        "#enter K value below\n",
        "#to change input data, open file testInput.txt and change data and then save it and run code\n",
        "#to change input training data change dataset into set1.txt\n",
        "inp=int(input(\"Enter any K value to all function's result with that K value: \"))\n",
        "\n",
        "print(\"For K=\",inp,\" metric = euclidean --> \",CartesianPredictionForTest1(inp))\n",
        "print(\"For K=\",inp,\" metric = Manhattan --> \",ManhattanPredictionForTest1(inp))\n",
        "print(\"For K=\",inp,\" metric = Minkowski --> \",MinkowskiPredictionForTest1(inp))\n"
      ],
      "metadata": {
        "colab": {
          "base_uri": "https://localhost:8080/"
        },
        "id": "QEACxHZx2a4V",
        "outputId": "9a564df4-5629-4ff2-c185-96730e8cb5a0"
      },
      "execution_count": null,
      "outputs": [
        {
          "output_type": "stream",
          "name": "stdout",
          "text": [
            "Enter any K value to all function's result with that K value: 7\n",
            "For K= 7  metric = euclidean -->  ['W', 'M', 'W', 'W']\n",
            "For K= 7  metric = Manhattan -->  ['W', 'M', 'W', 'W']\n",
            "For K= 7  metric = Minkowski -->  ['W', 'M', 'W', 'W']\n"
          ]
        }
      ]
    },
    {
      "cell_type": "markdown",
      "source": [
        "### **answer 1 C**"
      ],
      "metadata": {
        "id": "m6y46ouGoiQv"
      }
    },
    {
      "cell_type": "code",
      "source": [
        "LeaveOutPrediction(1)"
      ],
      "metadata": {
        "colab": {
          "base_uri": "https://localhost:8080/"
        },
        "id": "DxfJlCMEoOIw",
        "outputId": "632d098f-0873-48c8-bd83-ece6ae31fbcd"
      },
      "execution_count": null,
      "outputs": [
        {
          "output_type": "stream",
          "name": "stdout",
          "text": [
            "Acurracy for k = 1 is 55.00000000000001 %\n",
            "Erroneous for k = 1 is 44.99999999999999 %\n"
          ]
        }
      ]
    },
    {
      "cell_type": "code",
      "source": [
        "LeaveOutPrediction(3)"
      ],
      "metadata": {
        "colab": {
          "base_uri": "https://localhost:8080/"
        },
        "id": "sdXJo_droN_r",
        "outputId": "a8cdd6e2-7f15-4b06-a826-e123d86c2377"
      },
      "execution_count": null,
      "outputs": [
        {
          "output_type": "stream",
          "name": "stdout",
          "text": [
            "Acurracy for k = 3 is 61.66666666666667 %\n",
            "Erroneous for k = 3 is 38.33333333333333 %\n"
          ]
        }
      ]
    },
    {
      "cell_type": "code",
      "source": [
        "LeaveOutPrediction(7)"
      ],
      "metadata": {
        "colab": {
          "base_uri": "https://localhost:8080/"
        },
        "id": "qFka_UQuoNz2",
        "outputId": "aa1e331a-372a-4279-fdfb-2868b2c0eaa8"
      },
      "execution_count": null,
      "outputs": [
        {
          "output_type": "stream",
          "name": "stdout",
          "text": [
            "Acurracy for k = 7 is 60.83333333333333 %\n",
            "Erroneous for k = 7 is 39.16666666666667 %\n"
          ]
        }
      ]
    },
    {
      "cell_type": "markdown",
      "source": [
        "## **best answer for k=9**"
      ],
      "metadata": {
        "id": "irs49uVHoviu"
      }
    },
    {
      "cell_type": "markdown",
      "source": [
        "## **We can say that we got best accuracy with 0.63 or 63% for k=9 from output of LeaveOutPrediction(int) function.**"
      ],
      "metadata": {
        "id": "4LnuQRqGospb"
      }
    },
    {
      "cell_type": "code",
      "source": [
        "LeaveOutPrediction(9)"
      ],
      "metadata": {
        "colab": {
          "base_uri": "https://localhost:8080/"
        },
        "id": "GgyIUSpSoNbF",
        "outputId": "8db6575f-1c0f-4390-9063-715989b37f05"
      },
      "execution_count": null,
      "outputs": [
        {
          "output_type": "stream",
          "name": "stdout",
          "text": [
            "Acurracy for k = 9 is 63.33333333333333 %\n",
            "Erroneous for k = 9 is 36.66666666666667 %\n"
          ]
        }
      ]
    },
    {
      "cell_type": "code",
      "source": [
        "LeaveOutPrediction(11)"
      ],
      "metadata": {
        "colab": {
          "base_uri": "https://localhost:8080/"
        },
        "id": "wBFU14ptoNI8",
        "outputId": "a17523fe-1676-48d7-fead-8410347856e9"
      },
      "execution_count": null,
      "outputs": [
        {
          "output_type": "stream",
          "name": "stdout",
          "text": [
            "Acurracy for k = 11 is 59.166666666666664 %\n",
            "Erroneous for k = 11 is 40.833333333333336 %\n"
          ]
        }
      ]
    },
    {
      "cell_type": "markdown",
      "source": [
        "### **answer 1 D**"
      ],
      "metadata": {
        "id": "tocgiQZdomhC"
      }
    },
    {
      "cell_type": "markdown",
      "source": [
        "Acurrcy is inscresed with lesser data in knn algorith. and for k=3 I got best answer when age data is missing which is 7% more acurracy than age is present for previous quetion. "
      ],
      "metadata": {
        "id": "3Cl3LyIupCW8"
      }
    },
    {
      "cell_type": "code",
      "source": [
        "LeaveOutPredictionFor1D(1)  "
      ],
      "metadata": {
        "colab": {
          "base_uri": "https://localhost:8080/"
        },
        "id": "65IUbpYyqR7W",
        "outputId": "d0bc8514-64e6-4bb0-f957-2af4d94e0e2e"
      },
      "execution_count": null,
      "outputs": [
        {
          "output_type": "stream",
          "name": "stdout",
          "text": [
            "Acurracy when age data is removed for k = 1 is 62.5 %\n",
            "Erroneous when age data is removed for k = 1 is 37.5 %\n"
          ]
        }
      ]
    },
    {
      "cell_type": "code",
      "source": [
        "LeaveOutPredictionFor1D(3)"
      ],
      "metadata": {
        "colab": {
          "base_uri": "https://localhost:8080/"
        },
        "id": "BfF_Ozwiq8qA",
        "outputId": "87ab9ccc-32b4-46c0-898c-9833ae350489"
      },
      "execution_count": null,
      "outputs": [
        {
          "output_type": "stream",
          "name": "stdout",
          "text": [
            "Acurracy when age data is removed for k = 3 is 70.83333333333334 %\n",
            "Erroneous when age data is removed for k = 3 is 29.166666666666664 %\n"
          ]
        }
      ]
    },
    {
      "cell_type": "code",
      "source": [
        "LeaveOutPredictionFor1D(7)"
      ],
      "metadata": {
        "colab": {
          "base_uri": "https://localhost:8080/"
        },
        "id": "6OFvexvzq9Kn",
        "outputId": "ec69a117-c8a0-462e-ccf9-5e96123cbcab"
      },
      "execution_count": null,
      "outputs": [
        {
          "output_type": "stream",
          "name": "stdout",
          "text": [
            "Acurracy when age data is removed for k = 7 is 63.33333333333333 %\n",
            "Erroneous when age data is removed for k = 7 is 36.66666666666667 %\n"
          ]
        }
      ]
    },
    {
      "cell_type": "code",
      "source": [
        "LeaveOutPredictionFor1D(9)"
      ],
      "metadata": {
        "colab": {
          "base_uri": "https://localhost:8080/"
        },
        "id": "eRxmhOZXq901",
        "outputId": "3b2186d1-cf84-49e4-d894-edeaffa61014"
      },
      "execution_count": null,
      "outputs": [
        {
          "output_type": "stream",
          "name": "stdout",
          "text": [
            "Acurracy when age data is removed for k = 9 is 60.0 %\n",
            "Erroneous when age data is removed for k = 9 is 40.0 %\n"
          ]
        }
      ]
    },
    {
      "cell_type": "code",
      "source": [
        "LeaveOutPredictionFor1D(11)"
      ],
      "metadata": {
        "colab": {
          "base_uri": "https://localhost:8080/"
        },
        "id": "QSX250DRrBZn",
        "outputId": "490fa4d3-b9b9-4993-dcbd-7d9bda75b35a"
      },
      "execution_count": null,
      "outputs": [
        {
          "output_type": "stream",
          "name": "stdout",
          "text": [
            "Acurracy when age data is removed for k = 11 is 57.49999999999999 %\n",
            "Erroneous when age data is removed for k = 11 is 42.50000000000001 %\n"
          ]
        }
      ]
    },
    {
      "cell_type": "code",
      "source": [
        "naiveBaysespredictionForTest1()"
      ],
      "metadata": {
        "colab": {
          "base_uri": "https://localhost:8080/"
        },
        "id": "7WOg6-siZS-B",
        "outputId": "f28e8e80-51a0-4ddb-8c4e-58a721b4962f"
      },
      "execution_count": null,
      "outputs": [
        {
          "output_type": "stream",
          "name": "stdout",
          "text": [
            "Naive bayses prediction answer for 2 A :  ['W', 'W', 'W', 'W']\n"
          ]
        }
      ]
    },
    {
      "cell_type": "code",
      "source": [
        "naiveBaysespredictionForTest2()"
      ],
      "metadata": {
        "colab": {
          "base_uri": "https://localhost:8080/"
        },
        "id": "mlZoD01H4TLA",
        "outputId": "98005d96-fdc7-4616-8bc4-66a1db35077a"
      },
      "execution_count": null,
      "outputs": [
        {
          "output_type": "stream",
          "name": "stdout",
          "text": [
            "Naive bayses prediction answer from testInput.txt fil  2 B :  ['W', 'W', 'W', 'W']\n"
          ]
        }
      ]
    },
    {
      "cell_type": "code",
      "source": [
        "#calculating acurracy for 2c\n",
        "def CheckNaiveBaysesPredictionAnsWithOriginalAns():\n",
        "  l=naiveBaysespredictionFor1C()\n",
        "  res=0\n",
        "  for i in range(120):\n",
        "    if l[i]==g2[i]:\n",
        "      res+=1\n",
        "  return res*100/120\n",
        "print(\"acurracy for 2 C \",CheckNaiveBaysesPredictionAnsWithOriginalAns(),\"%\")\n",
        "print(\"Error for 2 C without age \",100-CheckNaiveBaysesPredictionAnsWithOriginalAns(),\"%\")"
      ],
      "metadata": {
        "colab": {
          "base_uri": "https://localhost:8080/"
        },
        "id": "mL7uvDdgeY9C",
        "outputId": "5064181c-a9ff-4779-ad1b-813ea8f98e55"
      },
      "execution_count": null,
      "outputs": [
        {
          "output_type": "stream",
          "name": "stdout",
          "text": [
            "acurracy for 2 C  69.16666666666667 %\n",
            "Error for 2 C without age  30.83333333333333 %\n"
          ]
        }
      ]
    },
    {
      "cell_type": "code",
      "source": [
        "#calculating acurracy for 2c\n",
        "def CheckNaiveBaysesPredictionAnsWithOriginalAns():\n",
        "  l=naiveBaysespredictionFor1C()\n",
        "  res=0\n",
        "  for i in range(120):\n",
        "    if l[i]==g2[i]:\n",
        "      res+=1\n",
        "  return res*100/120\n",
        "print(\"acurracy for 2 D without age \",CheckNaiveBaysesPredictionAnsWithOriginalAns(),\"%\")\n",
        "print(\"Error for 2 D without age \",100-CheckNaiveBaysesPredictionAnsWithOriginalAns(),\"%\")"
      ],
      "metadata": {
        "colab": {
          "base_uri": "https://localhost:8080/"
        },
        "outputId": "fdf88dfa-077a-4f95-d245-112cb7b84e4b",
        "id": "hvNSe6W-jxcK"
      },
      "execution_count": null,
      "outputs": [
        {
          "output_type": "stream",
          "name": "stdout",
          "text": [
            "acurracy for 2 D without age  69.16666666666667 %\n",
            "Error for 2 D without age  30.83333333333333 %\n"
          ]
        }
      ]
    },
    {
      "cell_type": "markdown",
      "source": [
        "2D > after removing age data in naive baysen classification. we got almost 1% drop in acuracy whicch not significant diffarnce as KNN algoritham when age data was removed. so lesser data is not affecting much here. "
      ],
      "metadata": {
        "id": "oVImjyV-gWJX"
      }
    },
    {
      "cell_type": "markdown",
      "source": [
        "## **2 E ) Compare the results of the two classifiers (i.e., the results form 1 c) and 1d) with the ones from 2 c) 2d) and discuss reasons why one might perform better than the other.**"
      ],
      "metadata": {
        "id": "-30befHlkLEr"
      }
    },
    {
      "cell_type": "markdown",
      "source": [
        "# answer: we got accuracy for 1C and 1D : 63.83 and 70.83 respectively. \n",
        "# and we got accuracy for 2C and 2D : 70.83 and 69.83 respectively. \n",
        "# so with lesser data in KNN we got 7% increse in accuracy however for Gaussian Na ̈ıve Bayes Classification we got almost same result with 1% decline. So I can say that with more data Gaussian Na ̈ıve Bayes Classification perform better than KNN and it has lesser diffrance with less data as well. "
      ],
      "metadata": {
        "id": "N2gMG1XskpGR"
      }
    }
  ]
}